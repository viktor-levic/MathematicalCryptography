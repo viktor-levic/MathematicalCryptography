{
 "cells": [
  {
   "cell_type": "code",
   "execution_count": 1,
   "metadata": {},
   "outputs": [],
   "source": [
    "import numpy as np\n",
    "import matplotlib.pyplot as plt\n",
    "from Crypto.Random import get_random_bytes\n",
    "from Crypto.Cipher import AES\n"
   ]
  },
  {
   "cell_type": "code",
   "execution_count": 11,
   "metadata": {},
   "outputs": [],
   "source": [
    "key = get_random_bytes(16)\n",
    "test_block = get_random_bytes(16)\n",
    "cipher = AES.new(key, AES.MODE_ECB)\n",
    "target = cipher.encrypt(test_block)"
   ]
  },
  {
   "cell_type": "code",
   "execution_count": 12,
   "metadata": {},
   "outputs": [
    {
     "name": "stdout",
     "output_type": "stream",
     "text": [
      "Done: 0.9765625%"
     ]
    }
   ],
   "source": [
    "def hd(bytes1, bytes2):\n",
    "    t1, t2 = bytes1.hex(), bytes2.hex()\n",
    "    t1, t2 = int(t1, 16), int(t2, 16)\n",
    "    \n",
    "    res = t1 ^ t2\n",
    "    return bin(res).count('1')\n",
    "    \n",
    "    \n",
    "block_hex = int(test_block.hex(), 16)\n",
    "i = 1\n",
    "xor = 1\n",
    "\n",
    "distances = []\n",
    "\n",
    "amount = len(bin(block_hex))\n",
    "\n",
    "while xor < block_hex:\n",
    "\n",
    "    print(f'\\rВиконано: {i / amount}%', end='')\n",
    "    \n",
    "    tmp_hex = block_hex ^ xor\n",
    "    try:\n",
    "        tmp_block = bytes.fromhex(hex(tmp_hex)[2:])\n",
    "    except Exception as e:\n",
    "        tmp_block = bytes.fromhex('0'+hex(tmp_hex)[2:])\n",
    "    tmp_res = cipher.encrypt(tmp_block)\n",
    "    distances.append(hd(target, tmp_res))\n",
    "    i += 1\n",
    "    xor = 1 << i"
   ]
  },
  {
   "cell_type": "code",
   "execution_count": 13,
   "metadata": {},
   "outputs": [
    {
     "data": {
      "text/plain": "(array([ 1.,  1.,  0.,  1.,  0.,  2.,  7.,  3.,  0.,  2.,  1.,  5., 12.,\n         0., 12.,  7.,  8.,  0.,  8., 10., 11.,  3.,  0., 10.,  8.,  4.,\n         0.,  1.,  5.,  1.,  1.,  0.,  0.,  0.,  0.,  0.,  0.,  0.,  0.,\n         1.]),\n array([51.   , 51.775, 52.55 , 53.325, 54.1  , 54.875, 55.65 , 56.425,\n        57.2  , 57.975, 58.75 , 59.525, 60.3  , 61.075, 61.85 , 62.625,\n        63.4  , 64.175, 64.95 , 65.725, 66.5  , 67.275, 68.05 , 68.825,\n        69.6  , 70.375, 71.15 , 71.925, 72.7  , 73.475, 74.25 , 75.025,\n        75.8  , 76.575, 77.35 , 78.125, 78.9  , 79.675, 80.45 , 81.225,\n        82.   ]),\n <BarContainer object of 40 artists>)"
     },
     "execution_count": 13,
     "metadata": {},
     "output_type": "execute_result"
    },
    {
     "data": {
      "text/plain": "<Figure size 640x480 with 1 Axes>",
      "image/png": "[encoded data removed]"
     },
     "metadata": {},
     "output_type": "display_data"
    }
   ],
   "source": [
    "plt.hist(distances, bins=40)"
   ]
  },
  {
   "cell_type": "code",
   "execution_count": 14,
   "metadata": {},
   "outputs": [
    {
     "data": {
      "text/plain": "64.456"
     },
     "execution_count": 14,
     "metadata": {},
     "output_type": "execute_result"
    }
   ],
   "source": [
    "np.mean(distances)"
   ]
  },
  {
   "cell_type": "code",
   "execution_count": 15,
   "metadata": {},
   "outputs": [
    {
     "data": {
      "text/plain": "51"
     },
     "execution_count": 15,
     "metadata": {},
     "output_type": "execute_result"
    }
   ],
   "source": [
    "min(distances)"
   ]
  }
 ],
 "metadata": {
  "kernelspec": {
   "display_name": "Python 3",
   "language": "python",
   "name": "python3"
  },
  "language_info": {
   "codemirror_mode": {
    "name": "ipython",
    "version": 3
   },
   "file_extension": ".py",
   "mimetype": "text/x-python",
   "name": "python",
   "nbconvert_exporter": "python",
   "pygments_lexer": "ipython3",
   "version": "3.6.9"
  }
 },
 "nbformat": 4,
 "nbformat_minor": 4
}
