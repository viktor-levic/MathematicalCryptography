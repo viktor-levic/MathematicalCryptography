{
 "cells": [
  {
   "cell_type": "code",
   "execution_count": 2,
   "id": "ac05ea63",
   "metadata": {},
   "outputs": [],
   "source": [
    "import random \n",
    "from math import ceil, sqrt"
   ]
  },
  {
   "cell_type": "markdown",
   "id": "3300f374",
   "metadata": {},
   "source": [
    "# Task 1"
   ]
  },
  {
   "cell_type": "code",
   "execution_count": 3,
   "id": "e4ad9c7a",
   "metadata": {},
   "outputs": [],
   "source": [
    "# перші прості числа\n",
    "sieve_base = (\n",
    "    2, 3, 5, 7, 11, 13, 17, 19, 23, 29,\n",
    "    31, 37, 41, 43, 47, 53, 59, 61, 67, 71,\n",
    "    73, 79, 83, 89, 97, 101, 103, 107, 109, 113,\n",
    "    127, 131, 137, 139, 149, 151, 157, 163, 167, 173,\n",
    "    179, 181, 191, 193, 197, 199, 211, 223, 227, 229,\n",
    "    233, 239, 241, 251, 257, 263, 269, 271, 277, 281,\n",
    "    283, 293, 307, 311, 313, 317, 331, 337, 347, 349,\n",
    "    353, 359, 367, 373, 379, 383, 389, 397, 401, 409,\n",
    "    419, 421, 431, 433, 439, 443, 449, 457, 461, 463,\n",
    "    467, 479, 487, 491, 499, 503, 509, 521, 523, 541,\n",
    "    547, 557, 563, 569, 571, 577, 587, 593, 599, 601,\n",
    "    607, 613, 617, 619, 631, 641, 643, 647, 653, 659,\n",
    "    661, 673, 677, 683, 691, 701, 709, 719, 727, 733,\n",
    "    739, 743, 751, 757, 761, 769, 773, 787, 797, 809,\n",
    "    811, 821, 823, 827, 829, 839, 853, 857, 859, 863,\n",
    "    877, 881, 883, 887, 907, 911, 919, 929, 937, 941,\n",
    "    947, 953, 967, 971, 977, 983, 991, 997,\n",
    ")\n",
    "\n",
    "\n",
    "def get_generator(p): \n",
    "    \"\"\"Знайти твірний елемент мультиплікативної групи GF(p)\"\"\"\n",
    "    order = p - 1 \n",
    "    \n",
    "    # шукаємо довільний перший простий елемент, який не ділить порядок групи\n",
    "    for el in sieve_base: \n",
    "        if order % el != 0: \n",
    "            return el \n",
    "    return -1"
   ]
  },
  {
   "cell_type": "code",
   "execution_count": 6,
   "id": "9e2da4d1",
   "metadata": {},
   "outputs": [
    {
     "name": "stdout",
     "output_type": "stream",
     "text": [
      "3\n"
     ]
    }
   ],
   "source": [
    "print(get_generator(6280006839610194535610832264115990014942299959414894265234037856584319485242258725251738882248095223378683852094573977199360709501836028351364255121050220013919812303))"
   ]
  },
  {
   "cell_type": "markdown",
   "id": "881bfb09",
   "metadata": {},
   "source": [
    "# Task 2"
   ]
  },
  {
   "cell_type": "code",
   "execution_count": 7,
   "id": "19c89dab",
   "metadata": {},
   "outputs": [
    {
     "data": {
      "text/plain": "102900819"
     },
     "execution_count": 7,
     "metadata": {},
     "output_type": "execute_result"
    }
   ],
   "source": [
    "\n",
    "def bsgs(g, h, p):\n",
    "    \"\"\"Алгоритм Шенкса для дискретного алгоритма\n",
    "    \"\"\"\n",
    "    N = ceil(sqrt(p - 1))\n",
    "\n",
    "    # Baby step. Побудова таблички\n",
    "    tbl = {pow(g, i, p): i for i in range(N)}\n",
    "\n",
    "    # використовуємо малу теорему Ферма\n",
    "    c = pow(g, N * (p - 2), p)\n",
    "\n",
    "    # Giant step. Шукаємо в таблиці\n",
    "    for j in range(N):\n",
    "        y = (h * pow(c, j, p)) % p\n",
    "        if y in tbl:\n",
    "            return j * N + tbl[y]\n",
    "\n",
    "    # Не знайшли\n",
    "    return None\n",
    "\n",
    "\n",
    "\n",
    "bsgs(7894352216, 355407489, 604604729)"
   ]
  },
  {
   "cell_type": "markdown",
   "id": "fba23982",
   "metadata": {},
   "source": [
    "# Task 3"
   ]
  },
  {
   "cell_type": "code",
   "execution_count": 9,
   "id": "32835fe5",
   "metadata": {},
   "outputs": [
    {
     "data": {
      "text/plain": "3"
     },
     "execution_count": 9,
     "metadata": {},
     "output_type": "execute_result"
    }
   ],
   "source": [
    "p = 355407489\n",
    "g = get_generator(p)\n",
    "g"
   ]
  },
  {
   "cell_type": "code",
   "execution_count": 10,
   "id": "c3fea49b",
   "metadata": {},
   "outputs": [
    {
     "data": {
      "text/plain": "(66739131, 322010461)"
     },
     "execution_count": 10,
     "metadata": {},
     "output_type": "execute_result"
    }
   ],
   "source": [
    "a_key = random.randint(1, p-1)\n",
    "b_key = random.randint(1, p-1)\n",
    "a_key, b_key"
   ]
  },
  {
   "cell_type": "code",
   "execution_count": 11,
   "id": "375ad9b6",
   "metadata": {},
   "outputs": [
    {
     "data": {
      "text/plain": "19832355"
     },
     "execution_count": 11,
     "metadata": {},
     "output_type": "execute_result"
    }
   ],
   "source": [
    "a_message = pow(g, a_key, p)\n",
    "b_message = pow(g, b_key, p)\n",
    "\n",
    "\n",
    "pow(a_message, b_key, p)"
   ]
  },
  {
   "cell_type": "code",
   "execution_count": 12,
   "id": "db5a6e65",
   "metadata": {},
   "outputs": [
    {
     "data": {
      "text/plain": "19832355"
     },
     "execution_count": 12,
     "metadata": {},
     "output_type": "execute_result"
    }
   ],
   "source": [
    "pow(b_message, a_key, p)"
   ]
  }
 ],
 "metadata": {
  "kernelspec": {
   "display_name": "Python 3 (ipykernel)",
   "language": "python",
   "name": "python3"
  },
  "language_info": {
   "codemirror_mode": {
    "name": "ipython",
    "version": 3
   },
   "file_extension": ".py",
   "mimetype": "text/x-python",
   "name": "python",
   "nbconvert_exporter": "python",
   "pygments_lexer": "ipython3",
   "version": "3.10.6"
  }
 },
 "nbformat": 4,
 "nbformat_minor": 5
}
